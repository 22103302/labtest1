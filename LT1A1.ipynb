{
 "cells": [
  {
   "cell_type": "code",
   "execution_count": 1,
   "id": "385234a4-7b3f-484f-8506-42ebad595454",
   "metadata": {},
   "outputs": [
    {
     "name": "stdout",
     "output_type": "stream",
     "text": [
      "Hello\n"
     ]
    }
   ],
   "source": [
    "print(\"Hello\")"
   ]
  },
  {
   "cell_type": "code",
   "execution_count": 34,
   "id": "9bff3981-ae3d-4b43-9ff5-c151d61a5fce",
   "metadata": {},
   "outputs": [],
   "source": [
    "import numpy as np\n",
    "import matplotlib.pyplot as plt"
   ]
  },
  {
   "cell_type": "code",
   "execution_count": 48,
   "id": "fde24c8c-f747-4ecc-a4dc-f71552b7132a",
   "metadata": {},
   "outputs": [],
   "source": [
    "employee = ['a','b','c']\n",
    "salary = [10,20,25]\n",
    "designation = ['hr', 'rr', 'cr']\n",
    "address = ['X', 'Y', 'Z']\n",
    "performance = [1,2,3]\n",
    "employee_id = [0,1,2]"
   ]
  },
  {
   "cell_type": "code",
   "execution_count": 49,
   "id": "1e910de5-8bdc-4ccc-9cf6-7f47f7ccecee",
   "metadata": {},
   "outputs": [
    {
     "ename": "SyntaxError",
     "evalue": "incomplete input (3668642965.py, line 3)",
     "output_type": "error",
     "traceback": [
      "\u001b[1;36m  Cell \u001b[1;32mIn[49], line 3\u001b[1;36m\u001b[0m\n\u001b[1;33m    if np.isin(attendance):\u001b[0m\n\u001b[1;37m                           ^\u001b[0m\n\u001b[1;31mSyntaxError\u001b[0m\u001b[1;31m:\u001b[0m incomplete input\n"
     ]
    }
   ],
   "source": [
    "attendance = [1,0,1]\n",
    "for i in range(len(employee_id)):\n",
    "    if np.isin(attendance):"
   ]
  },
  {
   "cell_type": "code",
   "execution_count": null,
   "id": "18ce7cf7-ceed-4eaa-883c-3ebc9b8c767a",
   "metadata": {},
   "outputs": [],
   "source": []
  },
  {
   "cell_type": "code",
   "execution_count": 50,
   "id": "82230d01-0ddb-4f50-bea7-6f98d28bc409",
   "metadata": {},
   "outputs": [
    {
     "name": "stdin",
     "output_type": "stream",
     "text": [
      "Enter new performance of empoyee with id 0:  3\n"
     ]
    },
    {
     "name": "stdout",
     "output_type": "stream",
     "text": [
      "updated performance of employee0: 3\n"
     ]
    }
   ],
   "source": [
    "def change_perf(performance):\n",
    "    for i in employee_id:\n",
    "        new_perf = input(f\"Enter new performance of empoyee with id {i}: \")\n",
    "        performance[i] = new_perf\n",
    "        print(f\"updated performance of employee{i}: {performance[i]}\")\n",
    "        return performance\n",
    "\n",
    "if __name__ == \"__main__\":\n",
    "    change_perf(performance)\n"
   ]
  },
  {
   "cell_type": "code",
   "execution_count": 44,
   "id": "dce54d68-f750-4d73-8bdf-5ff7343e330f",
   "metadata": {},
   "outputs": [
    {
     "name": "stdout",
     "output_type": "stream",
     "text": [
      "Average salary: 18.333333333333332\n",
      "Minimum salary: 10\n",
      "Maximum salary: 25\n"
     ]
    }
   ],
   "source": [
    "print(f\"Average salary: {np.average(salary)}\")\n",
    "print(f\"Minimum salary: {np.min(salary)}\")\n",
    "print(f\"Maximum salary: {np.max(salary)}\")"
   ]
  },
  {
   "cell_type": "code",
   "execution_count": 47,
   "id": "f7becb43-0dab-4f61-9308-c0737a088dbf",
   "metadata": {},
   "outputs": [
    {
     "ename": "SyntaxError",
     "evalue": "invalid syntax (355568586.py, line 1)",
     "output_type": "error",
     "traceback": [
      "\u001b[1;36m  Cell \u001b[1;32mIn[47], line 1\u001b[1;36m\u001b[0m\n\u001b[1;33m    employ for employ in employee np.where(salary = np.max(salary))\u001b[0m\n\u001b[1;37m           ^\u001b[0m\n\u001b[1;31mSyntaxError\u001b[0m\u001b[1;31m:\u001b[0m invalid syntax\n"
     ]
    }
   ],
   "source": [
    "\n",
    "print(f\"Highest paying employee: \")\n",
    "print(f\"Lowest paying employee: \")\n"
   ]
  },
  {
   "cell_type": "code",
   "execution_count": 31,
   "id": "f6d8d270-430e-4b08-8279-0e3619922cc6",
   "metadata": {},
   "outputs": [
    {
     "data": {
      "text/plain": [
       "<matplotlib.collections.PathCollection at 0x28c0e8ecad0>"
      ]
     },
     "execution_count": 31,
     "metadata": {},
     "output_type": "execute_result"
    },
    {
     "data": {
      "image/png": "[encoded data removed]",
      "text/plain": [
       "<Figure size 640x480 with 1 Axes>"
      ]
     },
     "metadata": {},
     "output_type": "display_data"
    }
   ],
   "source": [
    "plt.scatter(employee, performance)"
   ]
  },
  {
   "cell_type": "code",
   "execution_count": null,
   "id": "5dda1bd6-e5f3-4674-a375-cadc49c29567",
   "metadata": {},
   "outputs": [],
   "source": []
  }
 ],
 "metadata": {
  "kernelspec": {
   "display_name": "Python 3 (ipykernel)",
   "language": "python",
   "name": "python3"
  },
  "language_info": {
   "codemirror_mode": {
    "name": "ipython",
    "version": 3
   },
   "file_extension": ".py",
   "mimetype": "text/x-python",
   "name": "python",
   "nbconvert_exporter": "python",
   "pygments_lexer": "ipython3",
   "version": "3.12.4"
  }
 },
 "nbformat": 4,
 "nbformat_minor": 5
}
